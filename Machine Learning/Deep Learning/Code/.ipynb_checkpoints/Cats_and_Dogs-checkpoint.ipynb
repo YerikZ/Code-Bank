{
 "cells": [
  {
   "cell_type": "markdown",
   "metadata": {},
   "source": [
    "## Training a convnet on a small dataset\n",
    "www.kaggle .com/c/dogs-vs-cats/data "
   ]
  },
  {
   "cell_type": "markdown",
   "metadata": {},
   "source": [
    "### Prepare the data"
   ]
  },
  {
   "cell_type": "code",
   "execution_count": 2,
   "metadata": {},
   "outputs": [],
   "source": [
    "import os, shutil\n",
    "\n",
    "original_dataset_dir = '/Users/Yerik/OneDrive/Github/Code-Bank/Machine Learning/Deep Learning/Data/Kaggle_Original/dogs-vs-cats'\n",
    "base_dir = '/Users/Yerik/OneDrive/Github/Code-Bank/Machine Learning/Deep Learning/Data/cats_and_dogs_small' \n",
    "\n",
    "#os.mkdir(base_dir)\n",
    "train_dir = os.path.join(base_dir, 'train') \n",
    "os.mkdir(train_dir)\n",
    "validation_dir = os.path.join(base_dir, 'validation') \n",
    "os.mkdir(validation_dir)\n",
    "test_dir = os.path.join(base_dir, 'test') \n",
    "os.mkdir(test_dir)"
   ]
  },
  {
   "cell_type": "code",
   "execution_count": 3,
   "metadata": {},
   "outputs": [],
   "source": [
    "train_cats_dir = os.path.join(train_dir, 'cats') \n",
    "os.mkdir(train_cats_dir)\n",
    "train_dogs_dir = os.path.join(train_dir, 'dogs') \n",
    "os.mkdir(train_dogs_dir)\n",
    "\n",
    "# Directory with validation cat pictures\n",
    "validation_cats_dir = os.path.join(validation_dir, 'cats')  \n",
    "os.mkdir(validation_cats_dir)\n",
    "# Directory with validation dog pictures\n",
    "validation_dogs_dir = os.path.join(validation_dir, 'dogs') \n",
    "os.mkdir(validation_dogs_dir)\n",
    "\n",
    "# Directory with test cat pictures \n",
    "test_cats_dir = os.path.join(test_dir, 'cats') \n",
    "os.mkdir(test_cats_dir)\n",
    "# Directory with test dog pictures\n",
    "test_dogs_dir = os.path.join(test_dir, 'dogs') \n",
    "os.mkdir(test_dogs_dir)"
   ]
  },
  {
   "cell_type": "code",
   "execution_count": 4,
   "metadata": {},
   "outputs": [],
   "source": [
    "original_dataset_dir += '/train'\n",
    "fnames = ['cat.{}.jpg'.format(i) for i in range(1000)] \n",
    "for fname in fnames:\n",
    "    src = os.path.join(original_dataset_dir, fname) \n",
    "    dst = os.path.join(train_cats_dir, fname) \n",
    "    # Copies the first 1,000 cat images to train_cats_dir\n",
    "    shutil.copyfile(src, dst)\n",
    "\n",
    "fnames = ['cat.{}.jpg'.format(i) for i in range(1000, 1500)] \n",
    "for fname in fnames:\n",
    "    src = os.path.join(original_dataset_dir, fname) \n",
    "    dst = os.path.join(validation_cats_dir, fname) \n",
    "    shutil.copyfile(src, dst)\n",
    "\n",
    "fnames = ['cat.{}.jpg'.format(i) for i in range(1500, 2000)] \n",
    "for fname in fnames:\n",
    "    src = os.path.join(original_dataset_dir, fname) \n",
    "    dst = os.path.join(test_cats_dir, fname) \n",
    "    shutil.copyfile(src, dst)\n",
    "\n",
    "fnames = ['dog.{}.jpg'.format(i) for i in range(1000)] \n",
    "for fname in fnames:\n",
    "    src = os.path.join(original_dataset_dir, fname) \n",
    "    dst = os.path.join(train_dogs_dir, fname) \n",
    "    shutil.copyfile(src, dst)\n",
    "\n",
    "fnames = ['dog.{}.jpg'.format(i) for i in range(1000, 1500)] \n",
    "for fname in fnames:\n",
    "    src = os.path.join(original_dataset_dir, fname) \n",
    "    dst = os.path.join(validation_dogs_dir, fname) \n",
    "    shutil.copyfile(src, dst)\n",
    "\n",
    "fnames = ['dog.{}.jpg'.format(i) for i in range(1500, 2000)] \n",
    "for fname in fnames:\n",
    "    src = os.path.join(original_dataset_dir, fname) \n",
    "    dst = os.path.join(test_dogs_dir, fname) \n",
    "    shutil.copyfile(src, dst)"
   ]
  },
  {
   "cell_type": "code",
   "execution_count": 5,
   "metadata": {},
   "outputs": [
    {
     "name": "stdout",
     "output_type": "stream",
     "text": [
      "total training cat images: 1000\n",
      "total training dog images: 1000\n",
      "total validation cat images: 500\n",
      "total validation dog images: 500\n",
      "total test cat images: 500\n",
      "total test dog images: 500\n"
     ]
    }
   ],
   "source": [
    "# sanity check\n",
    "print('total training cat images:', len(os.listdir(train_cats_dir))) \n",
    "print('total training dog images:', len(os.listdir(train_dogs_dir))) \n",
    "print('total validation cat images:', len(os.listdir(validation_cats_dir))) \n",
    "print('total validation dog images:', len(os.listdir(validation_dogs_dir))) \n",
    "print('total test cat images:', len(os.listdir(test_cats_dir))) \n",
    "print('total test dog images:', len(os.listdir(test_dogs_dir))) "
   ]
  },
  {
   "cell_type": "markdown",
   "metadata": {},
   "source": [
    "### Build network"
   ]
  },
  {
   "cell_type": "code",
   "execution_count": 6,
   "metadata": {},
   "outputs": [
    {
     "name": "stderr",
     "output_type": "stream",
     "text": [
      "Using TensorFlow backend.\n"
     ]
    }
   ],
   "source": [
    "from keras import layers\n",
    "from keras import models\n",
    "model = models.Sequential() \n",
    "model.add(layers.Conv2D(32, (3, 3), activation='relu', input_shape=(150, 150, 3))) \n",
    "model.add(layers.MaxPooling2D((2, 2)))\n",
    "model.add(layers.Conv2D(64, (3, 3), activation='relu')) \n",
    "model.add(layers.MaxPooling2D((2, 2))) \n",
    "model.add(layers.Conv2D(128, (3, 3), activation='relu')) \n",
    "model.add(layers.MaxPooling2D((2, 2))) \n",
    "model.add(layers.Conv2D(128, (3, 3), activation='relu')) \n",
    "model.add(layers.MaxPooling2D((2, 2))) \n",
    "model.add(layers.Flatten())\n",
    "model.add(layers.Dense(512, activation='relu')) \n",
    "model.add(layers.Dense(1, activation='sigmoid'))"
   ]
  },
  {
   "cell_type": "code",
   "execution_count": 7,
   "metadata": {},
   "outputs": [
    {
     "name": "stdout",
     "output_type": "stream",
     "text": [
      "Model: \"sequential_1\"\n",
      "_________________________________________________________________\n",
      "Layer (type)                 Output Shape              Param #   \n",
      "=================================================================\n",
      "conv2d_1 (Conv2D)            (None, 148, 148, 32)      896       \n",
      "_________________________________________________________________\n",
      "max_pooling2d_1 (MaxPooling2 (None, 74, 74, 32)        0         \n",
      "_________________________________________________________________\n",
      "conv2d_2 (Conv2D)            (None, 72, 72, 64)        18496     \n",
      "_________________________________________________________________\n",
      "max_pooling2d_2 (MaxPooling2 (None, 36, 36, 64)        0         \n",
      "_________________________________________________________________\n",
      "conv2d_3 (Conv2D)            (None, 34, 34, 128)       73856     \n",
      "_________________________________________________________________\n",
      "max_pooling2d_3 (MaxPooling2 (None, 17, 17, 128)       0         \n",
      "_________________________________________________________________\n",
      "conv2d_4 (Conv2D)            (None, 15, 15, 128)       147584    \n",
      "_________________________________________________________________\n",
      "max_pooling2d_4 (MaxPooling2 (None, 7, 7, 128)         0         \n",
      "_________________________________________________________________\n",
      "flatten_1 (Flatten)          (None, 6272)              0         \n",
      "_________________________________________________________________\n",
      "dense_1 (Dense)              (None, 512)               3211776   \n",
      "_________________________________________________________________\n",
      "dense_2 (Dense)              (None, 1)                 513       \n",
      "=================================================================\n",
      "Total params: 3,453,121\n",
      "Trainable params: 3,453,121\n",
      "Non-trainable params: 0\n",
      "_________________________________________________________________\n"
     ]
    }
   ],
   "source": [
    "model.summary()"
   ]
  },
  {
   "cell_type": "code",
   "execution_count": 8,
   "metadata": {},
   "outputs": [],
   "source": [
    "from keras import optimizers\n",
    "model.compile(loss='binary_crossentropy', optimizer=optimizers.RMSprop(lr=1e-4),\n",
    "                      metrics=['acc'])"
   ]
  },
  {
   "cell_type": "code",
   "execution_count": 9,
   "metadata": {},
   "outputs": [
    {
     "name": "stdout",
     "output_type": "stream",
     "text": [
      "Found 2000 images belonging to 2 classes.\n",
      "Found 1000 images belonging to 2 classes.\n"
     ]
    }
   ],
   "source": [
    "# Using ImageDataGenerator to read images from directories\n",
    "\n",
    "from keras.preprocessing.image import ImageDataGenerator\n",
    "# Rescales all images by 1/255\n",
    "train_datagen = ImageDataGenerator(rescale=1./255) \n",
    "test_datagen = ImageDataGenerator(rescale=1./255)\n",
    "\n",
    "train_generator = train_datagen.flow_from_directory( \n",
    "    train_dir,\n",
    "    target_size=(150, 150),\n",
    "    batch_size=20,\n",
    "    class_mode='binary')\n",
    "\n",
    "validation_generator = test_datagen.flow_from_directory( \n",
    "    validation_dir,\n",
    "    target_size=(150, 150),\n",
    "    batch_size=20,\n",
    "    class_mode='binary')"
   ]
  },
  {
   "cell_type": "code",
   "execution_count": 10,
   "metadata": {},
   "outputs": [
    {
     "name": "stdout",
     "output_type": "stream",
     "text": [
      "data batch shape: (20, 150, 150, 3)\n",
      "labels batch shape: (20,)\n"
     ]
    }
   ],
   "source": [
    "for data_batch, labels_batch in train_generator:\n",
    "    print('data batch shape:', data_batch.shape)\n",
    "    print('labels batch shape:', labels_batch.shape)\n",
    "    break"
   ]
  },
  {
   "cell_type": "markdown",
   "metadata": {},
   "source": [
    "### Fit the network"
   ]
  },
  {
   "cell_type": "code",
   "execution_count": 12,
   "metadata": {},
   "outputs": [
    {
     "name": "stdout",
     "output_type": "stream",
     "text": [
      "Epoch 1/30\n",
      "100/100 [==============================] - 117s 1s/step - loss: 0.0463 - acc: 0.9890 - val_loss: 0.1791 - val_acc: 0.7160\n",
      "Epoch 2/30\n",
      "100/100 [==============================] - 98s 980ms/step - loss: 0.0424 - acc: 0.9885 - val_loss: 0.8236 - val_acc: 0.7240\n",
      "Epoch 3/30\n",
      "100/100 [==============================] - 95s 950ms/step - loss: 0.0390 - acc: 0.9885 - val_loss: 0.6197 - val_acc: 0.7160\n",
      "Epoch 4/30\n",
      "100/100 [==============================] - 108s 1s/step - loss: 0.0351 - acc: 0.9940 - val_loss: 0.8715 - val_acc: 0.7180\n",
      "Epoch 5/30\n",
      "100/100 [==============================] - 104s 1s/step - loss: 0.0257 - acc: 0.9930 - val_loss: 1.1824 - val_acc: 0.7350\n",
      "Epoch 6/30\n",
      "100/100 [==============================] - 92s 915ms/step - loss: 0.0224 - acc: 0.9940 - val_loss: 1.0537 - val_acc: 0.7030\n",
      "Epoch 7/30\n",
      "100/100 [==============================] - 98s 979ms/step - loss: 0.0203 - acc: 0.9965 - val_loss: 0.7429 - val_acc: 0.7320\n",
      "Epoch 8/30\n",
      "100/100 [==============================] - 96s 957ms/step - loss: 0.0185 - acc: 0.9965 - val_loss: 0.9699 - val_acc: 0.7340\n",
      "Epoch 9/30\n",
      "100/100 [==============================] - 94s 942ms/step - loss: 0.0184 - acc: 0.9950 - val_loss: 0.8512 - val_acc: 0.7390\n",
      "Epoch 10/30\n",
      "100/100 [==============================] - 92s 921ms/step - loss: 0.0150 - acc: 0.9965 - val_loss: 1.0900 - val_acc: 0.7280\n",
      "Epoch 11/30\n",
      "100/100 [==============================] - 90s 905ms/step - loss: 0.0123 - acc: 0.9970 - val_loss: 1.4087 - val_acc: 0.7270\n",
      "Epoch 12/30\n",
      "100/100 [==============================] - 97s 974ms/step - loss: 0.0189 - acc: 0.9930 - val_loss: 0.9168 - val_acc: 0.7220\n",
      "Epoch 13/30\n",
      "100/100 [==============================] - 98s 979ms/step - loss: 0.0070 - acc: 0.9990 - val_loss: 1.8331 - val_acc: 0.7340\n",
      "Epoch 14/30\n",
      "100/100 [==============================] - 96s 962ms/step - loss: 0.0102 - acc: 0.9950 - val_loss: 2.5601 - val_acc: 0.7260\n",
      "Epoch 15/30\n",
      "100/100 [==============================] - 94s 937ms/step - loss: 0.0058 - acc: 0.9985 - val_loss: 3.5885 - val_acc: 0.7080\n",
      "Epoch 16/30\n",
      "100/100 [==============================] - 91s 906ms/step - loss: 0.0116 - acc: 0.9960 - val_loss: 1.6840 - val_acc: 0.7280\n",
      "Epoch 17/30\n",
      "100/100 [==============================] - 95s 954ms/step - loss: 0.0090 - acc: 0.9970 - val_loss: 1.9768 - val_acc: 0.7290\n",
      "Epoch 18/30\n",
      "100/100 [==============================] - 95s 949ms/step - loss: 0.0058 - acc: 0.9980 - val_loss: 1.9561 - val_acc: 0.7260\n",
      "Epoch 19/30\n",
      "100/100 [==============================] - 97s 970ms/step - loss: 0.0118 - acc: 0.9975 - val_loss: 2.9281 - val_acc: 0.7110\n",
      "Epoch 20/30\n",
      "100/100 [==============================] - 95s 949ms/step - loss: 0.0059 - acc: 0.9985 - val_loss: 1.5367 - val_acc: 0.7370\n",
      "Epoch 21/30\n",
      "100/100 [==============================] - 92s 925ms/step - loss: 0.0071 - acc: 0.9980 - val_loss: 1.5859 - val_acc: 0.7300\n",
      "Epoch 22/30\n",
      "100/100 [==============================] - 100s 1s/step - loss: 0.0086 - acc: 0.9970 - val_loss: 2.1207 - val_acc: 0.7360\n",
      "Epoch 23/30\n",
      "100/100 [==============================] - 97s 970ms/step - loss: 0.0114 - acc: 0.9960 - val_loss: 1.9827 - val_acc: 0.7250\n",
      "Epoch 24/30\n",
      "100/100 [==============================] - 93s 927ms/step - loss: 0.0094 - acc: 0.9965 - val_loss: 0.9165 - val_acc: 0.7140\n",
      "Epoch 25/30\n",
      "100/100 [==============================] - 96s 957ms/step - loss: 0.0070 - acc: 0.9985 - val_loss: 1.2027 - val_acc: 0.7330\n",
      "Epoch 26/30\n",
      "100/100 [==============================] - 96s 960ms/step - loss: 0.0046 - acc: 0.9990 - val_loss: 0.5500 - val_acc: 0.7370\n",
      "Epoch 27/30\n",
      "100/100 [==============================] - 98s 975ms/step - loss: 0.0078 - acc: 0.9980 - val_loss: 2.4579 - val_acc: 0.7420\n",
      "Epoch 28/30\n",
      "100/100 [==============================] - 96s 964ms/step - loss: 0.0044 - acc: 0.9990 - val_loss: 1.5550 - val_acc: 0.7350\n",
      "Epoch 29/30\n",
      "100/100 [==============================] - 91s 910ms/step - loss: 0.0036 - acc: 0.9990 - val_loss: 2.4260 - val_acc: 0.7430\n",
      "Epoch 30/30\n",
      "100/100 [==============================] - 99s 992ms/step - loss: 0.0034 - acc: 0.9985 - val_loss: 3.0536 - val_acc: 0.7360\n"
     ]
    }
   ],
   "source": [
    "history = model.fit_generator( train_generator,\n",
    "      steps_per_epoch=100,\n",
    "      epochs=30,\n",
    "      validation_data=validation_generator,\n",
    "      validation_steps=50)"
   ]
  },
  {
   "cell_type": "code",
   "execution_count": null,
   "metadata": {},
   "outputs": [],
   "source": [
    "# model.save('cats_and_dogs_small_1.h5')"
   ]
  },
  {
   "cell_type": "markdown",
   "metadata": {},
   "source": [
    "### Evaluate the results"
   ]
  },
  {
   "cell_type": "code",
   "execution_count": 13,
   "metadata": {},
   "outputs": [
    {
     "data": {
      "image/png": "[encoded data removed]",
      "text/plain": [
       "<Figure size 432x288 with 1 Axes>"
      ]
     },
     "metadata": {
      "needs_background": "light"
     },
     "output_type": "display_data"
    },
    {
     "data": {
      "image/png": "[encoded data removed]",
      "text/plain": [
       "<Figure size 432x288 with 1 Axes>"
      ]
     },
     "metadata": {
      "needs_background": "light"
     },
     "output_type": "display_data"
    }
   ],
   "source": [
    "import matplotlib.pyplot as plt\n",
    "acc = history.history['acc']\n",
    "val_acc = history.history['val_acc'] \n",
    "loss = history.history['loss'] \n",
    "val_loss = history.history['val_loss']\n",
    "epochs = range(1, len(acc) + 1)\n",
    "plt.plot(epochs, acc, 'bo', label='Training acc') \n",
    "plt.plot(epochs, val_acc, 'b', label='Validation acc') \n",
    "plt.title('Training and validation accuracy') \n",
    "plt.legend()\n",
    "plt.figure()\n",
    "plt.plot(epochs, loss, 'bo', label='Training loss') \n",
    "plt.plot(epochs, val_loss, 'b', label='Validation loss') \n",
    "plt.title('Training and validation loss')\n",
    "plt.legend()\n",
    "plt.show()"
   ]
  },
  {
   "cell_type": "code",
   "execution_count": null,
   "metadata": {},
   "outputs": [],
   "source": [
    "### Using data augmentation configuration via ImageDataGenerator"
   ]
  },
  {
   "cell_type": "code",
   "execution_count": 14,
   "metadata": {},
   "outputs": [],
   "source": [
    "datagen = ImageDataGenerator(\n",
    "      rotation_range=40,\n",
    "      width_shift_range=0.2, \n",
    "      height_shift_range=0.2, \n",
    "      shear_range=0.2, \n",
    "      zoom_range=0.2, \n",
    "      horizontal_flip=True, \n",
    "      fill_mode='nearest')"
   ]
  },
  {
   "cell_type": "code",
   "execution_count": null,
   "metadata": {},
   "outputs": [],
   "source": [
    "# display some random augmented images\n",
    "\n",
    "from keras.preprocessing import image\n",
    "fnames = [os.path.join(train_cats_dir, fname) for fname in os.listdir(train_cats_dir)]\n",
    "# Chooses one image to augment\n",
    "img_path = fnames[3]  \n",
    "img = image.load_img(img_path, target_size=(150, 150))\n",
    "Reads the image and resizes it\n",
    "Licensed to <null>\n",
    "140\n",
    "CHAPTER 5 Deep learning for computer vision\n",
    "x = image.img_to_array(img) Converts it to a Numpy array with shape (150, 150, 3) x = x.reshape((1,) + x.shape) Reshapes it to (1, 150, 150, 3)\n",
    "i=0\n",
    "for batch in datagen.flow(x, batch_size=1):\n",
    "plt.figure(i)\n",
    "imgplot = plt.imshow(image.array_to_img(batch[0])) i += 1\n",
    "if i % 4 == 0:\n",
    "break plt.show()"
   ]
  },
  {
   "cell_type": "code",
   "execution_count": null,
   "metadata": {},
   "outputs": [],
   "source": [
    "# define a new convnet including dropout\n",
    "model = models.Sequential() \n",
    "model.add(layers.Conv2D(32, (3, 3), activation='relu',input_shape=(150, 150, 3))) \n",
    "model.add(layers.MaxPooling2D((2, 2)))\n",
    "model.add(layers.Conv2D(64, (3, 3), activation='relu'))\n",
    "model.add(layers.MaxPooling2D((2, 2))) \n",
    "model.add(layers.Conv2D(128, (3, 3), activation='relu')) \n",
    "model.add(layers.MaxPooling2D((2, 2))) \n",
    "model.add(layers.Conv2D(128, (3, 3), activation='relu')) \n",
    "model.add(layers.MaxPooling2D((2, 2))) \n",
    "model.add(layers.Flatten()) \n",
    "model.add(layers.Dropout(0.5)) \n",
    "model.add(layers.Dense(512, activation='relu')) \n",
    "model.add(layers.Dense(1, activation='sigmoid'))\n",
    "model.compile(loss='binary_crossentropy', optimizer=optimizers.RMSprop(lr=1e-4),\n",
    "              metrics=['acc'])"
   ]
  },
  {
   "cell_type": "code",
   "execution_count": null,
   "metadata": {},
   "outputs": [],
   "source": [
    "train_datagen = ImageDataGenerator( rescale=1./255,\n",
    "rotation_range=40, width_shift_range=0.2, height_shift_range=0.2, shear_range=0.2, zoom_range=0.2, horizontal_flip=True,)\n",
    "test_datagen = ImageDataGenerator(rescale=1./255)\n",
    "train_generator = train_datagen.flow_from_directory(\n",
    "Note that the validation data shouldn’t be augmented!\n",
    " Target directory\n",
    "train_dir,\n",
    "target_size=(150, 150),\n",
    "batch_size=32,\n",
    "class_mode='binary')\n",
    "Resizes all images to 150 × 150\n",
    " validation_generator = test_datagen.flow_from_directory( validation_dir,\n",
    "        target_size=(150, 150),\n",
    "        batch_size=32,\n",
    "        class_mode='binary')\n",
    "Because you use binary_crossentropy loss, you need binary labels.\n",
    "history\n",
    "      train_generator,\n",
    "= model.fit_generator(\n",
    "steps_per_epoch=100,\n",
    "epochs=100,\n",
    "validation_data=validation_generator,\n",
    "validation_steps=50)"
   ]
  },
  {
   "cell_type": "code",
   "execution_count": null,
   "metadata": {},
   "outputs": [],
   "source": [
    "# model.save('cats_and_dogs_small_2.h5')"
   ]
  },
  {
   "cell_type": "code",
   "execution_count": null,
   "metadata": {},
   "outputs": [],
   "source": [
    "acc = history.history['acc']\n",
    "val_acc = history.history['val_acc'] \n",
    "loss = history.history['loss'] \n",
    "val_loss = history.history['val_loss']\n",
    "epochs = range(1, len(acc) + 1)\n",
    "plt.plot(epochs, acc, 'bo', label='Training acc') \n",
    "plt.plot(epochs, val_acc, 'b', label='Validation acc') \n",
    "plt.title('Training and validation accuracy') \n",
    "plt.legend()\n",
    "plt.figure()\n",
    "plt.plot(epochs, loss, 'bo', label='Training loss') \n",
    "plt.plot(epochs, val_loss, 'b', label='Validation loss') \n",
    "plt.title('Training and validation loss')\n",
    "plt.legend()\n",
    "plt.show()"
   ]
  }
 ],
 "metadata": {
  "kernelspec": {
   "display_name": "Python 3",
   "language": "python",
   "name": "python3"
  },
  "language_info": {
   "codemirror_mode": {
    "name": "ipython",
    "version": 3
   },
   "file_extension": ".py",
   "mimetype": "text/x-python",
   "name": "python",
   "nbconvert_exporter": "python",
   "pygments_lexer": "ipython3",
   "version": "3.7.6"
  }
 },
 "nbformat": 4,
 "nbformat_minor": 4
}
