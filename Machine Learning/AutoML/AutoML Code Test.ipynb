{
 "cells": [
  {
   "cell_type": "code",
   "execution_count": 1,
   "metadata": {},
   "outputs": [],
   "source": [
    "import pandas as pd\n",
    "import numpy as np\n",
    "import matplotlib.pyplot as plt\n",
    "import seaborn as sns\n",
    "import warnings\n",
    "warnings.filterwarnings('ignore')"
   ]
  },
  {
   "cell_type": "code",
   "execution_count": 130,
   "metadata": {},
   "outputs": [],
   "source": [
    "raw = pd.read_csv('interview_task_data.csv')"
   ]
  },
  {
   "cell_type": "code",
   "execution_count": 217,
   "metadata": {},
   "outputs": [],
   "source": [
    "X = raw.iloc[:,1:10]\n",
    "y = raw['label']"
   ]
  },
  {
   "cell_type": "code",
   "execution_count": 223,
   "metadata": {},
   "outputs": [],
   "source": [
    "from sklearn import model_selection\n",
    "from sklearn import feature_selection\n",
    "from sklearn.linear_model import LogisticRegression, LinearRegression, ElasticNet\n",
    "from sklearn.ensemble import RandomForestClassifier, RandomForestRegressor\n",
    "from sklearn import metrics\n",
    "from xgboost import XGBClassifier, XGBRegressor\n",
    "from lightgbm import LGBMClassifier, LGBMRegressor\n",
    "\n",
    "import shap\n",
    "import warnings\n",
    "warnings.filterwarnings(\"ignore\")"
   ]
  },
  {
   "cell_type": "code",
   "execution_count": null,
   "metadata": {},
   "outputs": [],
   "source": [
    "seed = 1234\n",
    "\n",
    "logit = LogisticRegression(random_state=seed)\n",
    "rf_clf = RandomForestClassifier(random_state=seed)\n",
    "xgb_clf = XGBClassifier(random_state=seed, probability=True)\n",
    "lgb_clf = LGBMClassifier(random_state=seed)\n",
    "\n",
    "linear = LinearRegression()\n",
    "en = ElasticNet(random_state=seed)\n",
    "rf_reg = RandomForestRegressor(random_state=seed)\n",
    "xgb_reg = XGBRegressor(random_state=seed)\n",
    "lgb_reg = LGBMRegressor(random_state=seed)\n",
    "\n",
    "\n",
    "clf_list = {'LogisticRegression': logit,\n",
    "            'RandomForest': rf_clf, \n",
    "            'XGBoost': xgb_clf,\n",
    "            'LightGBM': lgb_clf}\n",
    "reg_list = {'LinearRegression': linear,\n",
    "            'ElasticNet': en,\n",
    "            'RandomForest': rf_reg, \n",
    "            'XGBoost': xgb_reg,\n",
    "            'LightGBM': lgb_reg}\n",
    "\n",
    "# Hyper-prameters tuning using gridsearch\n",
    "\n",
    "clf_pram_grid_list = {'LogisticRegression' : {'C': np.logspace(-4, 4, 20), \n",
    "                                          'max_iter': [1000], \n",
    "                                          'fit_intercept':[True, False],\n",
    "                                          'penalty':['l1', 'l2']},\n",
    "             'RandomForest' : {'max_depth': [3, 5, 6, 7, 8], \n",
    "                               'max_features': ['auto', 'sqrt'], \n",
    "                               'n_estimators': [20, 50, 100, 200],\n",
    "                               'min_samples_split': [3, 5, 6, 7]},\n",
    "             'XGBoost' : {'min_child_weight': [1, 5, 10],\n",
    "                            'gamma': [0.5, 1, 1.5, 2, 5],\n",
    "                            'subsample': [0.6, 0.8, 1.0],\n",
    "                            'colsample_bytree': [0.6, 0.8, 1.0],\n",
    "                            'max_depth': [3, 4, 5]}\n",
    "            }\n",
    "\n",
    "reg_pram_grid_list = {'LogisticRegression' : {'C': np.logspace(-4, 4, 20), \n",
    "                                          'max_iter': [1000], \n",
    "                                          'fit_intercept':[True, False],\n",
    "                                          'penalty':['l1', 'l2']},\n",
    "             'RandomForest' : {'max_depth': [3, 5, 6, 7, 8], \n",
    "                               'max_features': ['auto', 'sqrt'], \n",
    "                               'n_estimators': [20, 50, 100, 200],\n",
    "                               'min_samples_split': [3, 5, 6, 7]},\n",
    "             'XGBoost' : {'min_child_weight': [1, 5, 10],\n",
    "                            'gamma': [0.5, 1, 1.5, 2, 5],\n",
    "                            'subsample': [0.6, 0.8, 1.0],\n",
    "                            'colsample_bytree': [0.6, 0.8, 1.0],\n",
    "                            'max_depth': [3, 4, 5]}\n",
    "            }"
   ]
  },
  {
   "cell_type": "markdown",
   "metadata": {},
   "source": [
    "#### Train-test Split"
   ]
  },
  {
   "cell_type": "code",
   "execution_count": 24,
   "metadata": {},
   "outputs": [],
   "source": [
    "target = 'label'"
   ]
  },
  {
   "cell_type": "code",
   "execution_count": 25,
   "metadata": {},
   "outputs": [],
   "source": [
    "# Split dataset into CV (80%) and holdout (20%)\n",
    "seed = 1234\n",
    "\n",
    "def \n",
    "train_val, holdout = model_selection.train_test_split(model_df, test_size=0.2, \n",
    "                                                      random_state=seed)\n",
    "X_train = train_val.drop(columns=target)\n",
    "y_train = train_val[target].values\n",
    "X_holdout = holdout.drop(columns=target)\n",
    "y_holdout = holdout[target].values\n"
   ]
  },
  {
   "cell_type": "markdown",
   "metadata": {},
   "source": [
    "#### Model Selection"
   ]
  },
  {
   "cell_type": "code",
   "execution_count": 28,
   "metadata": {},
   "outputs": [],
   "source": [
    "# Get score for different classifiers\n",
    "import time\n",
    "\n",
    "def auto_hyperparameter_tuning(model_list, X_train, y_train):\n",
    "    # Store best estimators after hyperparamter tuning\n",
    "    best_estimators = {}\n",
    "    \n",
    "    for (name, mod) in model_list.items():\n",
    "        start_time = time.time()\n",
    "        \n",
    "        # Hyper-paramters tuning \n",
    "        \n",
    "        grid = model_selection.RandomizedSearchCV(mod, \n",
    "                                     pram_grid_list[name], \n",
    "                                     cv=5, refit=True, verbose=0)\n",
    "        # use small sample to speed up training\n",
    "        # parameters performing well in small sample will also perform well in larger sample\n",
    "        if X_train.shape[0] >= 1000:\n",
    "            grid.fit(X = X_train[:1000], y = y_train[:1000])\n",
    "        else:\n",
    "            grid.fit(X = X_train, y = y_train)\n",
    "        \n",
    "        end_time = time.time()\n",
    "        best_estimators[name] =  grid.best_estimator_\n",
    "        \n",
    "    return best_estimators\n",
    "\n",
    "def auto_model_selection(model_list, X_train, y_train, metrics):\n",
    "    \n",
    "    result_df = pd.DataFrame(columns=['Model', 'Time Spent', 'CV'])\n",
    "    for (name, mod) in model_list.items():\n",
    "        start_time = time.time()\n",
    "        \n",
    "        # Use 5-fold cross validation\n",
    "        cv_results = model_selection.cross_validate(mod, \n",
    "                                       y = y_train, \n",
    "                                       X = X_train, \n",
    "                                       cv=5,\n",
    "                                       scoring=metrics\n",
    "                                      )\n",
    "        cv_score = cv_results['test_score']\n",
    "        \n",
    "        end_time = time.time()\n",
    "        time_spent = (end_time - start_time) / 60\n",
    "        result_df.loc[len(result_df)] = [name,\n",
    "                                          round(time_spent,1), \n",
    "                                          np.round(cv_score.mean(), 4)]\n",
    "    return result_df"
   ]
  },
  {
   "cell_type": "code",
   "execution_count": 29,
   "metadata": {},
   "outputs": [
    {
     "name": "stdout",
     "output_type": "stream",
     "text": [
      "                Model  Time Spent      CV\n",
      "0  LogisticRegression         0.2  0.6969\n",
      "1        RandomForest         0.2  0.7152\n",
      "2             XGBoost         0.6  0.7217\n"
     ]
    }
   ],
   "source": [
    "# Model selections\n",
    "# This takes very very long time due to hyperparamter tuning\n",
    "\n",
    "result_df, best_estimators = print_model_results(model_list, \n",
    "                                                 X_train, \n",
    "                                                 y_train)\n",
    "print(result_df)"
   ]
  },
  {
   "cell_type": "code",
   "execution_count": 30,
   "metadata": {},
   "outputs": [
    {
     "data": {
      "image/png": "[encoded data removed]",
      "text/plain": [
       "<Figure size 720x432 with 1 Axes>"
      ]
     },
     "metadata": {
      "needs_background": "light"
     },
     "output_type": "display_data"
    }
   ],
   "source": [
    "## Best model on holdout set\n",
    "\n",
    "# train the model with the whole training set\n",
    "\n",
    "final_model = best_estimators['XGBoost'].fit(y = y_train, X = X_train)\n",
    "\n",
    "def get_auc_scores(y_actual, pred_label, pred_proba):\n",
    "    auc_score = metrics.roc_auc_score(y_actual, pred_label); \n",
    "    fpr_df, tpr_df, _ = metrics.roc_curve(y_actual, pred_proba); \n",
    "    return (auc_score, fpr_df, tpr_df)\n",
    "\n",
    "def draw_roc_curve(auc_, fpr_, tpr_, mod_label, figsize = (10,6))\n",
    "    plt.figure(figsize = figsize, linewidth= 1)\n",
    "    plt.plot(fpr_, tpr_, label = mod_label + ': ' + str(round(auc_, 2)))\n",
    "    plt.plot([0,1], [0,1], 'k--', label = 'Random: 0.5')\n",
    "    plt.xlabel('False Positive Rate')\n",
    "    plt.ylabel('True Positive Rate')\n",
    "    plt.title('ROC Curve')\n",
    "    plt.legend(loc='best')\n",
    "    plt.show()"
   ]
  },
  {
   "cell_type": "markdown",
   "metadata": {},
   "source": [
    "#### Feature Importance (Explain the model)"
   ]
  },
  {
   "cell_type": "code",
   "execution_count": 206,
   "metadata": {},
   "outputs": [],
   "source": [
    "import shap"
   ]
  },
  {
   "cell_type": "code",
   "execution_count": 229,
   "metadata": {},
   "outputs": [],
   "source": [
    "# Evaluate feature importance using SHAP\n",
    "\n",
    "\n",
    "\n",
    "def draw_feature_importance(model, explainer, X_train):\n",
    "    try:\n",
    "        if explainer == 'tree':\n",
    "            shap_values = shap.TreeExplainer(model).shap_values(X_train)\n",
    "        elif explainer == 'linear':\n",
    "            shap_values = shap.LinearExplainer(model).shap_values(X_train)\n",
    "        ax = shap.summary_plot(shap_values, X_train, plot_type=\"bar\")\n",
    "    except Exception as e:\n",
    "        print(model, str(e))\n",
    "    return ax"
   ]
  },
  {
   "cell_type": "markdown",
   "metadata": {},
   "source": [
    "#### Find the optimal threshold for deployment"
   ]
  },
  {
   "cell_type": "code",
   "execution_count": 230,
   "metadata": {},
   "outputs": [],
   "source": [
    "# I will use f2 score to optimise the threshold based on the following assumptions\n",
    "# 1) Positive class is more important\n",
    "# 2) False negative is costly\n",
    "# F2-Measure (beta=2.0): Less weight on precision, more weight on recall\n",
    "# Fbeta = ((1 + beta^2) * Precision * Recall) / (beta^2 * Precision + Recall)\n",
    "\n",
    "def Find_Optimal_Cutoff(target, pred_proba, beta):\n",
    "    precision, recall, pr_threshold = metrics.precision_recall_curve(target, pred_proba)\n",
    "    f2_score = ((1 + beta**2) * precision * recall) / (beta**2 * precision + recall)\n",
    "    cutoff = pr_threshold[np.where(f2_score==f2_score.max())][0]\n",
    "    \n",
    "    ax = sns.lineplot(threshold, f2)\n",
    "    ax.set_xlabel('Threshold')\n",
    "    ax.set_ylabel('f2-score')\n",
    "    plt.show()\n",
    "    return f2_score[:-1], pr_threshold, cutoff\n"
   ]
  },
  {
   "cell_type": "code",
   "execution_count": null,
   "metadata": {},
   "outputs": [],
   "source": []
  }
 ],
 "metadata": {
  "kernelspec": {
   "display_name": "Python 3",
   "language": "python",
   "name": "python3"
  },
  "language_info": {
   "codemirror_mode": {
    "name": "ipython",
    "version": 3
   },
   "file_extension": ".py",
   "mimetype": "text/x-python",
   "name": "python",
   "nbconvert_exporter": "python",
   "pygments_lexer": "ipython3",
   "version": "3.7.6"
  }
 },
 "nbformat": 4,
 "nbformat_minor": 4
}
